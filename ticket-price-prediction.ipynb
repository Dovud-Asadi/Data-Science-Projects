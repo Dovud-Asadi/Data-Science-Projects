{
 "cells": [
  {
   "cell_type": "code",
   "execution_count": 1,
   "metadata": {
    "_cell_guid": "b1076dfc-b9ad-4769-8c92-a6c4dae69d19",
    "_uuid": "8f2839f25d086af736a60e9eeb907d3b93b6e0e5",
    "execution": {
     "iopub.execute_input": "2024-02-19T11:41:11.521373Z",
     "iopub.status.busy": "2024-02-19T11:41:11.520946Z",
     "iopub.status.idle": "2024-02-19T11:41:12.766808Z",
     "shell.execute_reply": "2024-02-19T11:41:12.765280Z",
     "shell.execute_reply.started": "2024-02-19T11:41:11.521334Z"
    },
    "trusted": true
   },
   "outputs": [
    {
     "name": "stdout",
     "output_type": "stream",
     "text": [
      "/kaggle/input/aviachipta-narxini-bashorat-qilish/train_data.csv\n",
      "/kaggle/input/aviachipta-narxini-bashorat-qilish/test_data.csv\n",
      "/kaggle/input/aviachipta-narxini-bashorat-qilish/sample_solution.csv\n"
     ]
    }
   ],
   "source": [
    "# This Python 3 environment comes with many helpful analytics libraries installed\n",
    "# It is defined by the kaggle/python Docker image: https://github.com/kaggle/docker-python\n",
    "# For example, here's several helpful packages to load\n",
    "\n",
    "import numpy as np # linear algebra\n",
    "import pandas as pd # data processing, CSV file I/O (e.g. pd.read_csv)\n",
    "\n",
    "# Input data files are available in the read-only \"../input/\" directory\n",
    "# For example, running this (by clicking run or pressing Shift+Enter) will list all files under the input directory\n",
    "\n",
    "import os\n",
    "for dirname, _, filenames in os.walk('/kaggle/input'):\n",
    "    for filename in filenames:\n",
    "        print(os.path.join(dirname, filename))\n",
    "\n",
    "# You can write up to 20GB to the current directory (/kaggle/working/) that gets preserved as output when you create a version using \"Save & Run All\" \n",
    "# You can also write temporary files to /kaggle/temp/, but they won't be saved outside of the current session"
   ]
  },
  {
   "cell_type": "code",
   "execution_count": 21,
   "metadata": {
    "execution": {
     "iopub.execute_input": "2024-02-19T11:53:34.409354Z",
     "iopub.status.busy": "2024-02-19T11:53:34.408916Z",
     "iopub.status.idle": "2024-02-19T11:53:34.416572Z",
     "shell.execute_reply": "2024-02-19T11:53:34.415354Z",
     "shell.execute_reply.started": "2024-02-19T11:53:34.409320Z"
    },
    "trusted": true
   },
   "outputs": [],
   "source": [
    "import pandas as pd\n",
    "import numpy as np\n",
    "import matplotlib.pyplot as plt\n",
    "\n",
    "from sklearn.metrics import mean_squared_error, accuracy_score\n",
    "from sklearn.pipeline import Pipeline\n",
    "from sklearn.compose import ColumnTransformer\n",
    "from sklearn.preprocessing import OrdinalEncoder, OneHotEncoder, StandardScaler, MinMaxScaler\n",
    "from sklearn.base import BaseEstimator, TransformerMixin\n",
    "from sklearn.model_selection import train_test_split, GridSearchCV\n",
    "from sklearn.linear_model import LinearRegression\n",
    "from sklearn.ensemble import RandomForestRegressor \n",
    "from sklearn.tree import DecisionTreeRegressor\n",
    "from xgboost import XGBClassifier"
   ]
  },
  {
   "cell_type": "code",
   "execution_count": 5,
   "metadata": {
    "execution": {
     "iopub.execute_input": "2024-02-19T11:44:04.781394Z",
     "iopub.status.busy": "2024-02-19T11:44:04.781035Z",
     "iopub.status.idle": "2024-02-19T11:44:04.850197Z",
     "shell.execute_reply": "2024-02-19T11:44:04.848334Z",
     "shell.execute_reply.started": "2024-02-19T11:44:04.781363Z"
    },
    "trusted": true
   },
   "outputs": [
    {
     "data": {
      "text/html": [
       "<div>\n",
       "<style scoped>\n",
       "    .dataframe tbody tr th:only-of-type {\n",
       "        vertical-align: middle;\n",
       "    }\n",
       "\n",
       "    .dataframe tbody tr th {\n",
       "        vertical-align: top;\n",
       "    }\n",
       "\n",
       "    .dataframe thead th {\n",
       "        text-align: right;\n",
       "    }\n",
       "</style>\n",
       "<table border=\"1\" class=\"dataframe\">\n",
       "  <thead>\n",
       "    <tr style=\"text-align: right;\">\n",
       "      <th></th>\n",
       "      <th>id</th>\n",
       "      <th>airline</th>\n",
       "      <th>flight</th>\n",
       "      <th>source_city</th>\n",
       "      <th>departure_time</th>\n",
       "      <th>stops</th>\n",
       "      <th>arrival_time</th>\n",
       "      <th>destination_city</th>\n",
       "      <th>class</th>\n",
       "      <th>duration</th>\n",
       "      <th>days_left</th>\n",
       "      <th>price</th>\n",
       "    </tr>\n",
       "  </thead>\n",
       "  <tbody>\n",
       "    <tr>\n",
       "      <th>0</th>\n",
       "      <td>1</td>\n",
       "      <td>Vistara</td>\n",
       "      <td>UK-810</td>\n",
       "      <td>Bangalore</td>\n",
       "      <td>Early_Morning</td>\n",
       "      <td>one</td>\n",
       "      <td>Night</td>\n",
       "      <td>Mumbai</td>\n",
       "      <td>Economy</td>\n",
       "      <td>14.25</td>\n",
       "      <td>21</td>\n",
       "      <td>7212</td>\n",
       "    </tr>\n",
       "    <tr>\n",
       "      <th>1</th>\n",
       "      <td>2</td>\n",
       "      <td>SpiceJet</td>\n",
       "      <td>SG-5094</td>\n",
       "      <td>Hyderabad</td>\n",
       "      <td>Evening</td>\n",
       "      <td>zero</td>\n",
       "      <td>Night</td>\n",
       "      <td>Kolkata</td>\n",
       "      <td>Economy</td>\n",
       "      <td>1.75</td>\n",
       "      <td>7</td>\n",
       "      <td>5292</td>\n",
       "    </tr>\n",
       "    <tr>\n",
       "      <th>2</th>\n",
       "      <td>3</td>\n",
       "      <td>Vistara</td>\n",
       "      <td>UK-846</td>\n",
       "      <td>Bangalore</td>\n",
       "      <td>Morning</td>\n",
       "      <td>one</td>\n",
       "      <td>Evening</td>\n",
       "      <td>Delhi</td>\n",
       "      <td>Business</td>\n",
       "      <td>9.58</td>\n",
       "      <td>5</td>\n",
       "      <td>60553</td>\n",
       "    </tr>\n",
       "    <tr>\n",
       "      <th>3</th>\n",
       "      <td>4</td>\n",
       "      <td>Vistara</td>\n",
       "      <td>UK-706</td>\n",
       "      <td>Kolkata</td>\n",
       "      <td>Morning</td>\n",
       "      <td>one</td>\n",
       "      <td>Evening</td>\n",
       "      <td>Hyderabad</td>\n",
       "      <td>Economy</td>\n",
       "      <td>6.75</td>\n",
       "      <td>28</td>\n",
       "      <td>5760</td>\n",
       "    </tr>\n",
       "    <tr>\n",
       "      <th>4</th>\n",
       "      <td>5</td>\n",
       "      <td>Indigo</td>\n",
       "      <td>6E-5394</td>\n",
       "      <td>Chennai</td>\n",
       "      <td>Early_Morning</td>\n",
       "      <td>zero</td>\n",
       "      <td>Morning</td>\n",
       "      <td>Mumbai</td>\n",
       "      <td>Economy</td>\n",
       "      <td>2.00</td>\n",
       "      <td>4</td>\n",
       "      <td>10712</td>\n",
       "    </tr>\n",
       "  </tbody>\n",
       "</table>\n",
       "</div>"
      ],
      "text/plain": [
       "   id   airline   flight source_city departure_time stops arrival_time  \\\n",
       "0   1   Vistara   UK-810   Bangalore  Early_Morning   one        Night   \n",
       "1   2  SpiceJet  SG-5094   Hyderabad        Evening  zero        Night   \n",
       "2   3   Vistara   UK-846   Bangalore        Morning   one      Evening   \n",
       "3   4   Vistara   UK-706     Kolkata        Morning   one      Evening   \n",
       "4   5    Indigo  6E-5394     Chennai  Early_Morning  zero      Morning   \n",
       "\n",
       "  destination_city     class  duration  days_left  price  \n",
       "0           Mumbai   Economy     14.25         21   7212  \n",
       "1          Kolkata   Economy      1.75          7   5292  \n",
       "2            Delhi  Business      9.58          5  60553  \n",
       "3        Hyderabad   Economy      6.75         28   5760  \n",
       "4           Mumbai   Economy      2.00          4  10712  "
      ]
     },
     "execution_count": 5,
     "metadata": {},
     "output_type": "execute_result"
    }
   ],
   "source": [
    "train_df = pd.read_csv(\"/kaggle/input/aviachipta-narxini-bashorat-qilish/train_data.csv\")\n",
    "test_df = pd.read_csv(\"/kaggle/input/aviachipta-narxini-bashorat-qilish/test_data.csv\")\n",
    "train_df.head()"
   ]
  },
  {
   "cell_type": "code",
   "execution_count": 6,
   "metadata": {
    "execution": {
     "iopub.execute_input": "2024-02-19T11:44:06.345014Z",
     "iopub.status.busy": "2024-02-19T11:44:06.344634Z",
     "iopub.status.idle": "2024-02-19T11:44:06.371009Z",
     "shell.execute_reply": "2024-02-19T11:44:06.369524Z",
     "shell.execute_reply.started": "2024-02-19T11:44:06.344982Z"
    },
    "trusted": true
   },
   "outputs": [
    {
     "name": "stdout",
     "output_type": "stream",
     "text": [
      "<class 'pandas.core.frame.DataFrame'>\n",
      "RangeIndex: 20000 entries, 0 to 19999\n",
      "Data columns (total 12 columns):\n",
      " #   Column            Non-Null Count  Dtype  \n",
      "---  ------            --------------  -----  \n",
      " 0   id                20000 non-null  int64  \n",
      " 1   airline           20000 non-null  object \n",
      " 2   flight            20000 non-null  object \n",
      " 3   source_city       20000 non-null  object \n",
      " 4   departure_time    20000 non-null  object \n",
      " 5   stops             20000 non-null  object \n",
      " 6   arrival_time      20000 non-null  object \n",
      " 7   destination_city  20000 non-null  object \n",
      " 8   class             20000 non-null  object \n",
      " 9   duration          20000 non-null  float64\n",
      " 10  days_left         20000 non-null  int64  \n",
      " 11  price             20000 non-null  int64  \n",
      "dtypes: float64(1), int64(3), object(8)\n",
      "memory usage: 1.8+ MB\n",
      "________________________________________\n",
      "<class 'pandas.core.frame.DataFrame'>\n",
      "RangeIndex: 5000 entries, 0 to 4999\n",
      "Data columns (total 11 columns):\n",
      " #   Column            Non-Null Count  Dtype  \n",
      "---  ------            --------------  -----  \n",
      " 0   id                5000 non-null   int64  \n",
      " 1   airline           5000 non-null   object \n",
      " 2   flight            5000 non-null   object \n",
      " 3   source_city       5000 non-null   object \n",
      " 4   departure_time    5000 non-null   object \n",
      " 5   stops             5000 non-null   object \n",
      " 6   arrival_time      5000 non-null   object \n",
      " 7   destination_city  5000 non-null   object \n",
      " 8   class             5000 non-null   object \n",
      " 9   duration          5000 non-null   float64\n",
      " 10  days_left         5000 non-null   int64  \n",
      "dtypes: float64(1), int64(2), object(8)\n",
      "memory usage: 429.8+ KB\n"
     ]
    }
   ],
   "source": [
    "train_df.info()\n",
    "print('_'*40)\n",
    "test_df.info()"
   ]
  },
  {
   "cell_type": "code",
   "execution_count": 7,
   "metadata": {
    "execution": {
     "iopub.execute_input": "2024-02-19T11:44:07.903522Z",
     "iopub.status.busy": "2024-02-19T11:44:07.902073Z",
     "iopub.status.idle": "2024-02-19T11:44:07.972989Z",
     "shell.execute_reply": "2024-02-19T11:44:07.972003Z",
     "shell.execute_reply.started": "2024-02-19T11:44:07.903464Z"
    },
    "trusted": true
   },
   "outputs": [
    {
     "name": "stdout",
     "output_type": "stream",
     "text": [
      "Airline             Source_city         Destination_city    Departure_time      Arrival_time        Stops               Class               \n",
      "Vistara             Bangalore           Mumbai              Early_Morning       Night               one                 Economy             \n",
      "SpiceJet            Hyderabad           Kolkata             Evening             Evening             zero                Business            \n",
      "Indigo              Kolkata             Delhi               Morning             Morning             two_or_more                             \n",
      "Air_India           Chennai             Hyderabad           Afternoon           Afternoon                                                   \n",
      "GO_FIRST            Delhi               Chennai             Night               Early_Morning                                               \n",
      "AirAsia             Mumbai              Bangalore           Late_Night          Late_Night                                                  \n"
     ]
    }
   ],
   "source": [
    "columns = ['airline', 'source_city', 'destination_city', 'departure_time', 'arrival_time', 'stops', 'class']\n",
    "\n",
    "for col in columns:\n",
    "    print(f\"{col.capitalize():<20}\", end=\"\")\n",
    "print()\n",
    "\n",
    "max_len = max(len(train_df[col].unique()) for col in columns)\n",
    "\n",
    "for i in range(max_len):\n",
    "    for col in columns:\n",
    "        unique_values = train_df[col].unique()\n",
    "        if i < len(unique_values):\n",
    "            print(f\"{unique_values[i]:<20}\", end=\"\") \n",
    "        else:\n",
    "            print(\" \" * 20, end=\"\")\n",
    "    print()"
   ]
  },
  {
   "cell_type": "markdown",
   "metadata": {},
   "source": [
    "# Preprocessing to Machine Learning"
   ]
  },
  {
   "cell_type": "code",
   "execution_count": 8,
   "metadata": {
    "execution": {
     "iopub.execute_input": "2024-02-19T11:44:36.551832Z",
     "iopub.status.busy": "2024-02-19T11:44:36.551458Z",
     "iopub.status.idle": "2024-02-19T11:44:36.597723Z",
     "shell.execute_reply": "2024-02-19T11:44:36.596312Z",
     "shell.execute_reply.started": "2024-02-19T11:44:36.551804Z"
    },
    "trusted": true
   },
   "outputs": [],
   "source": [
    "def flight(data):\n",
    "    data[['flight_country', 'flight_number']]=data[\"flight\"].str.split(\"-\", expand=True)\n",
    "    data['flight_number']=data['flight_number'].astype('int64')\n",
    "    \n",
    "    data.drop(['id','flight', 'flight_number'], axis=1, inplace = True)\n",
    "    \n",
    "flight(train_df)"
   ]
  },
  {
   "cell_type": "code",
   "execution_count": 9,
   "metadata": {
    "execution": {
     "iopub.execute_input": "2024-02-19T11:44:50.977498Z",
     "iopub.status.busy": "2024-02-19T11:44:50.976898Z",
     "iopub.status.idle": "2024-02-19T11:44:51.039801Z",
     "shell.execute_reply": "2024-02-19T11:44:51.038437Z",
     "shell.execute_reply.started": "2024-02-19T11:44:50.977454Z"
    },
    "trusted": true
   },
   "outputs": [
    {
     "data": {
      "text/html": [
       "<div>\n",
       "<style scoped>\n",
       "    .dataframe tbody tr th:only-of-type {\n",
       "        vertical-align: middle;\n",
       "    }\n",
       "\n",
       "    .dataframe tbody tr th {\n",
       "        vertical-align: top;\n",
       "    }\n",
       "\n",
       "    .dataframe thead th {\n",
       "        text-align: right;\n",
       "    }\n",
       "</style>\n",
       "<table border=\"1\" class=\"dataframe\">\n",
       "  <thead>\n",
       "    <tr style=\"text-align: right;\">\n",
       "      <th></th>\n",
       "      <th>airline_AirAsia</th>\n",
       "      <th>airline_Air_India</th>\n",
       "      <th>airline_GO_FIRST</th>\n",
       "      <th>airline_Indigo</th>\n",
       "      <th>airline_SpiceJet</th>\n",
       "      <th>airline_Vistara</th>\n",
       "      <th>source_city_Bangalore</th>\n",
       "      <th>source_city_Chennai</th>\n",
       "      <th>source_city_Delhi</th>\n",
       "      <th>source_city_Hyderabad</th>\n",
       "      <th>...</th>\n",
       "      <th>class_Economy</th>\n",
       "      <th>flight_country_6E</th>\n",
       "      <th>flight_country_AI</th>\n",
       "      <th>flight_country_G8</th>\n",
       "      <th>flight_country_I5</th>\n",
       "      <th>flight_country_SG</th>\n",
       "      <th>flight_country_UK</th>\n",
       "      <th>duration</th>\n",
       "      <th>days_left</th>\n",
       "      <th>price</th>\n",
       "    </tr>\n",
       "  </thead>\n",
       "  <tbody>\n",
       "    <tr>\n",
       "      <th>0</th>\n",
       "      <td>0</td>\n",
       "      <td>0</td>\n",
       "      <td>0</td>\n",
       "      <td>0</td>\n",
       "      <td>0</td>\n",
       "      <td>1</td>\n",
       "      <td>1</td>\n",
       "      <td>0</td>\n",
       "      <td>0</td>\n",
       "      <td>0</td>\n",
       "      <td>...</td>\n",
       "      <td>1</td>\n",
       "      <td>0</td>\n",
       "      <td>0</td>\n",
       "      <td>0</td>\n",
       "      <td>0</td>\n",
       "      <td>0</td>\n",
       "      <td>1</td>\n",
       "      <td>0.355497</td>\n",
       "      <td>0.416667</td>\n",
       "      <td>7212</td>\n",
       "    </tr>\n",
       "    <tr>\n",
       "      <th>1</th>\n",
       "      <td>0</td>\n",
       "      <td>0</td>\n",
       "      <td>0</td>\n",
       "      <td>0</td>\n",
       "      <td>1</td>\n",
       "      <td>0</td>\n",
       "      <td>0</td>\n",
       "      <td>0</td>\n",
       "      <td>0</td>\n",
       "      <td>1</td>\n",
       "      <td>...</td>\n",
       "      <td>1</td>\n",
       "      <td>0</td>\n",
       "      <td>0</td>\n",
       "      <td>0</td>\n",
       "      <td>0</td>\n",
       "      <td>1</td>\n",
       "      <td>0</td>\n",
       "      <td>0.024371</td>\n",
       "      <td>0.125000</td>\n",
       "      <td>5292</td>\n",
       "    </tr>\n",
       "    <tr>\n",
       "      <th>2</th>\n",
       "      <td>0</td>\n",
       "      <td>0</td>\n",
       "      <td>0</td>\n",
       "      <td>0</td>\n",
       "      <td>0</td>\n",
       "      <td>1</td>\n",
       "      <td>1</td>\n",
       "      <td>0</td>\n",
       "      <td>0</td>\n",
       "      <td>0</td>\n",
       "      <td>...</td>\n",
       "      <td>0</td>\n",
       "      <td>0</td>\n",
       "      <td>0</td>\n",
       "      <td>0</td>\n",
       "      <td>0</td>\n",
       "      <td>0</td>\n",
       "      <td>1</td>\n",
       "      <td>0.231788</td>\n",
       "      <td>0.083333</td>\n",
       "      <td>60553</td>\n",
       "    </tr>\n",
       "    <tr>\n",
       "      <th>3</th>\n",
       "      <td>0</td>\n",
       "      <td>0</td>\n",
       "      <td>0</td>\n",
       "      <td>0</td>\n",
       "      <td>0</td>\n",
       "      <td>1</td>\n",
       "      <td>0</td>\n",
       "      <td>0</td>\n",
       "      <td>0</td>\n",
       "      <td>0</td>\n",
       "      <td>...</td>\n",
       "      <td>1</td>\n",
       "      <td>0</td>\n",
       "      <td>0</td>\n",
       "      <td>0</td>\n",
       "      <td>0</td>\n",
       "      <td>0</td>\n",
       "      <td>1</td>\n",
       "      <td>0.156821</td>\n",
       "      <td>0.562500</td>\n",
       "      <td>5760</td>\n",
       "    </tr>\n",
       "    <tr>\n",
       "      <th>4</th>\n",
       "      <td>0</td>\n",
       "      <td>0</td>\n",
       "      <td>0</td>\n",
       "      <td>1</td>\n",
       "      <td>0</td>\n",
       "      <td>0</td>\n",
       "      <td>0</td>\n",
       "      <td>1</td>\n",
       "      <td>0</td>\n",
       "      <td>0</td>\n",
       "      <td>...</td>\n",
       "      <td>1</td>\n",
       "      <td>1</td>\n",
       "      <td>0</td>\n",
       "      <td>0</td>\n",
       "      <td>0</td>\n",
       "      <td>0</td>\n",
       "      <td>0</td>\n",
       "      <td>0.030993</td>\n",
       "      <td>0.062500</td>\n",
       "      <td>10712</td>\n",
       "    </tr>\n",
       "  </tbody>\n",
       "</table>\n",
       "<p>5 rows × 44 columns</p>\n",
       "</div>"
      ],
      "text/plain": [
       "   airline_AirAsia  airline_Air_India  airline_GO_FIRST  airline_Indigo  \\\n",
       "0                0                  0                 0               0   \n",
       "1                0                  0                 0               0   \n",
       "2                0                  0                 0               0   \n",
       "3                0                  0                 0               0   \n",
       "4                0                  0                 0               1   \n",
       "\n",
       "   airline_SpiceJet  airline_Vistara  source_city_Bangalore  \\\n",
       "0                 0                1                      1   \n",
       "1                 1                0                      0   \n",
       "2                 0                1                      1   \n",
       "3                 0                1                      0   \n",
       "4                 0                0                      0   \n",
       "\n",
       "   source_city_Chennai  source_city_Delhi  source_city_Hyderabad  ...  \\\n",
       "0                    0                  0                      0  ...   \n",
       "1                    0                  0                      1  ...   \n",
       "2                    0                  0                      0  ...   \n",
       "3                    0                  0                      0  ...   \n",
       "4                    1                  0                      0  ...   \n",
       "\n",
       "   class_Economy  flight_country_6E  flight_country_AI  flight_country_G8  \\\n",
       "0              1                  0                  0                  0   \n",
       "1              1                  0                  0                  0   \n",
       "2              0                  0                  0                  0   \n",
       "3              1                  0                  0                  0   \n",
       "4              1                  1                  0                  0   \n",
       "\n",
       "   flight_country_I5  flight_country_SG  flight_country_UK  duration  \\\n",
       "0                  0                  0                  1  0.355497   \n",
       "1                  0                  1                  0  0.024371   \n",
       "2                  0                  0                  1  0.231788   \n",
       "3                  0                  0                  1  0.156821   \n",
       "4                  0                  0                  0  0.030993   \n",
       "\n",
       "   days_left  price  \n",
       "0   0.416667   7212  \n",
       "1   0.125000   5292  \n",
       "2   0.083333  60553  \n",
       "3   0.562500   5760  \n",
       "4   0.062500  10712  \n",
       "\n",
       "[5 rows x 44 columns]"
      ]
     },
     "execution_count": 9,
     "metadata": {},
     "output_type": "execute_result"
    }
   ],
   "source": [
    "def preprocess(data, cat_cols, num_cols):\n",
    "    prep_df = pd.DataFrame(index=data.index)\n",
    "    \n",
    "    for col in cat_cols:\n",
    "        encoded_col = pd.get_dummies(data[col], prefix=col, dtype=np.int8)\n",
    "        prep_df = pd.merge(prep_df, encoded_col, left_index=True, right_index=True)\n",
    "\n",
    "    num_transformer = ColumnTransformer([\n",
    "        (\"scaler\", MinMaxScaler(), num_cols)\n",
    "    ])\n",
    "    num_transformed = num_transformer.fit_transform(data[num_cols])\n",
    "    num_df = pd.DataFrame(num_transformed, columns=num_cols, index=data.index)\n",
    "    prep_df = pd.merge(prep_df, num_df, left_index=True, right_index=True)\n",
    "    prep_df = pd.merge(prep_df, data.price, left_index=True, right_index=True)\n",
    "    return prep_df\n",
    "\n",
    "# Define categorical and numerical columns\n",
    "cat_cols = [\"airline\", \"source_city\", \"departure_time\", \"stops\", \"arrival_time\", \"destination_city\", \"class\", \"flight_country\"]\n",
    "num_cols = [\"duration\", \"days_left\"]\n",
    "\n",
    "\n",
    "prepared_data = preprocess(train_df, cat_cols, num_cols)\n",
    "prepared_data.head()"
   ]
  },
  {
   "cell_type": "markdown",
   "metadata": {},
   "source": [
    "# Splitting Data"
   ]
  },
  {
   "cell_type": "code",
   "execution_count": 10,
   "metadata": {
    "execution": {
     "iopub.execute_input": "2024-02-19T11:45:24.591578Z",
     "iopub.status.busy": "2024-02-19T11:45:24.591156Z",
     "iopub.status.idle": "2024-02-19T11:45:24.608151Z",
     "shell.execute_reply": "2024-02-19T11:45:24.607002Z",
     "shell.execute_reply.started": "2024-02-19T11:45:24.591546Z"
    },
    "trusted": true
   },
   "outputs": [],
   "source": [
    "train_set, test_set = train_test_split(prepared_data, test_size=0.2, random_state=42)\n",
    "X_train = train_set.drop(\"price\", axis=1)\n",
    "y_train = train_set[\"price\"]\n",
    "X_test = test_set.drop(\"price\", axis=1)\n",
    "y_test = test_set[\"price\"]"
   ]
  },
  {
   "cell_type": "markdown",
   "metadata": {},
   "source": [
    "# Model choosing"
   ]
  },
  {
   "cell_type": "markdown",
   "metadata": {},
   "source": [
    "## Linear Regression"
   ]
  },
  {
   "cell_type": "code",
   "execution_count": null,
   "metadata": {},
   "outputs": [],
   "source": []
  },
  {
   "cell_type": "markdown",
   "metadata": {},
   "source": [
    "## Decision Tree"
   ]
  },
  {
   "cell_type": "code",
   "execution_count": 20,
   "metadata": {
    "execution": {
     "iopub.execute_input": "2024-02-19T11:52:41.076350Z",
     "iopub.status.busy": "2024-02-19T11:52:41.075979Z",
     "iopub.status.idle": "2024-02-19T11:52:41.191441Z",
     "shell.execute_reply": "2024-02-19T11:52:41.190136Z",
     "shell.execute_reply.started": "2024-02-19T11:52:41.076321Z"
    },
    "trusted": true
   },
   "outputs": [
    {
     "name": "stdout",
     "output_type": "stream",
     "text": [
      "4966.6400293294355\n"
     ]
    }
   ],
   "source": [
    "dt_regressor = DecisionTreeRegressor()\n",
    "dt_regressor.fit(X_train, y_train)\n",
    "\n",
    "y_pred = dt_regressor.predict(X_test)\n",
    "\n",
    "lin_mse = mean_squared_error(y_test, y_pred)\n",
    "lin_rmse = np.sqrt(lin_mse)\n",
    "print(lin_rmse)"
   ]
  },
  {
   "cell_type": "code",
   "execution_count": null,
   "metadata": {},
   "outputs": [],
   "source": [
    "{'max_depth': 64, 'max_features': 'auto', 'min_samples_leaf': 2, 'min_samples_split': 50}"
   ]
  },
  {
   "cell_type": "code",
   "execution_count": 24,
   "metadata": {
    "execution": {
     "iopub.execute_input": "2024-02-19T11:55:48.812119Z",
     "iopub.status.busy": "2024-02-19T11:55:48.811753Z",
     "iopub.status.idle": "2024-02-19T11:55:48.817693Z",
     "shell.execute_reply": "2024-02-19T11:55:48.816323Z",
     "shell.execute_reply.started": "2024-02-19T11:55:48.812089Z"
    },
    "trusted": true
   },
   "outputs": [],
   "source": [
    "# param_grid = {\n",
    "#     'max_depth': [2, 4, 8, 16, 32, 64, None],\n",
    "#     'min_samples_split': [2,10, 30, 50, 100, 200, 300, 700],\n",
    "#     'min_samples_leaf': [1, 2, 4],\n",
    "#     'max_features': ['auto', 'sqrt', 'log2']\n",
    "# }\n",
    "\n",
    "# # Perform GridSearchCV to find the best parameters\n",
    "# grid_search = GridSearchCV(estimator=dt_regressor, param_grid=param_grid, cv=5, n_jobs=-1, verbose=2)\n",
    "# grid_search.fit(X_train, y_train)\n",
    "\n",
    "# # Print the best parameters and best score\n",
    "# print(\"Best parameters found: \", grid_search.best_params_)\n",
    "# print(\"Best score found: \", grid_search.best_score_)\n",
    "\n",
    "# # Use the best estimator to make predictions\n",
    "# best_dt_regressor = grid_search.best_estimator_\n",
    "# y_pred_best = best_dt_regressor.predict(X_test)\n",
    "\n",
    "# # Evaluate the best model\n",
    "# mse_best = mean_squared_error(y_test, y_pred_best)\n",
    "# print(\"Mean Squared Error of the best model:\", mse_best)"
   ]
  },
  {
   "cell_type": "code",
   "execution_count": 28,
   "metadata": {
    "execution": {
     "iopub.execute_input": "2024-02-19T11:59:42.887169Z",
     "iopub.status.busy": "2024-02-19T11:59:42.886782Z",
     "iopub.status.idle": "2024-02-19T11:59:42.975897Z",
     "shell.execute_reply": "2024-02-19T11:59:42.974319Z",
     "shell.execute_reply.started": "2024-02-19T11:59:42.887141Z"
    },
    "trusted": true
   },
   "outputs": [
    {
     "name": "stdout",
     "output_type": "stream",
     "text": [
      "4532.221949768601\n"
     ]
    }
   ],
   "source": [
    "dt_regressor = DecisionTreeRegressor(max_depth=64, min_samples_leaf= 2, min_samples_split= 50)\n",
    "dt_regressor.fit(X_train, y_train)\n",
    "\n",
    "y_pred = dt_regressor.predict(X_test)\n",
    "\n",
    "lin_mse = mean_squared_error(y_test, y_pred)\n",
    "lin_rmse = np.sqrt(lin_mse)\n",
    "print(lin_rmse)"
   ]
  },
  {
   "cell_type": "markdown",
   "metadata": {},
   "source": [
    "## Random Forest Regression"
   ]
  },
  {
   "cell_type": "code",
   "execution_count": 30,
   "metadata": {
    "execution": {
     "iopub.execute_input": "2024-02-19T12:00:44.879670Z",
     "iopub.status.busy": "2024-02-19T12:00:44.879107Z",
     "iopub.status.idle": "2024-02-19T12:00:51.325118Z",
     "shell.execute_reply": "2024-02-19T12:00:51.324052Z",
     "shell.execute_reply.started": "2024-02-19T12:00:44.879625Z"
    },
    "trusted": true
   },
   "outputs": [
    {
     "name": "stdout",
     "output_type": "stream",
     "text": [
      "3796.2107730600237\n"
     ]
    }
   ],
   "source": [
    "rf_regressor = RandomForestRegressor()\n",
    "rf_regressor.fit(X_train, y_train)\n",
    "y_pred = rf_regressor.predict(X_test)\n",
    "\n",
    "# Evaluate the model\n",
    "lin_mse = mean_squared_error(y_test, y_pred)\n",
    "lin_rmse = np.sqrt(lin_mse)\n",
    "print(lin_rmse)"
   ]
  },
  {
   "cell_type": "code",
   "execution_count": 31,
   "metadata": {
    "execution": {
     "iopub.execute_input": "2024-02-19T12:04:14.618300Z",
     "iopub.status.busy": "2024-02-19T12:04:14.617962Z",
     "iopub.status.idle": "2024-02-19T12:24:34.003767Z",
     "shell.execute_reply": "2024-02-19T12:24:34.001772Z",
     "shell.execute_reply.started": "2024-02-19T12:04:14.618276Z"
    },
    "trusted": true
   },
   "outputs": [
    {
     "name": "stdout",
     "output_type": "stream",
     "text": [
      "Best parameters: {'max_depth': None, 'min_samples_leaf': 1, 'min_samples_split': 5, 'n_estimators': 200}\n"
     ]
    }
   ],
   "source": [
    "# param_grid = {\n",
    "#     'n_estimators': [100, 200, 300],\n",
    "#     'max_depth': [None, 5, 10, 15],\n",
    "#     'min_samples_split': [2, 5, 10],\n",
    "#     'min_samples_leaf': [1, 2, 4]\n",
    "# }\n",
    "\n",
    "# # Create the GridSearchCV object\n",
    "# rf = RandomForestRegressor()\n",
    "# grid_search = GridSearchCV(estimator=rf, param_grid=param_grid, cv=5, n_jobs=-1)\n",
    "\n",
    "# # Perform the grid search\n",
    "# grid_search.fit(X_train, y_train)\n",
    "\n",
    "# # Print the best parameters found\n",
    "# print(\"Best parameters:\", grid_search.best_params_)"
   ]
  },
  {
   "cell_type": "code",
   "execution_count": 38,
   "metadata": {
    "execution": {
     "iopub.execute_input": "2024-02-19T12:27:24.294041Z",
     "iopub.status.busy": "2024-02-19T12:27:24.293707Z",
     "iopub.status.idle": "2024-02-19T12:27:36.246361Z",
     "shell.execute_reply": "2024-02-19T12:27:36.244642Z",
     "shell.execute_reply.started": "2024-02-19T12:27:24.294017Z"
    },
    "trusted": true
   },
   "outputs": [
    {
     "name": "stdout",
     "output_type": "stream",
     "text": [
      "3831.667282951203\n"
     ]
    }
   ],
   "source": [
    "rf_regressor = RandomForestRegressor(min_samples_leaf= 1, min_samples_split= 5, n_estimators = 200)\n",
    "rf_regressor.fit(X_train, y_train)\n",
    "y_pred = rf_regressor.predict(X_test)\n",
    "\n",
    "# Evaluate the model\n",
    "lin_mse = mean_squared_error(y_test, y_pred)\n",
    "lin_rmse = np.sqrt(lin_mse)\n",
    "print(lin_rmse)"
   ]
  },
  {
   "cell_type": "markdown",
   "metadata": {},
   "source": [
    "## XGBoost"
   ]
  },
  {
   "cell_type": "code",
   "execution_count": 39,
   "metadata": {
    "execution": {
     "iopub.execute_input": "2024-02-19T12:28:53.346081Z",
     "iopub.status.busy": "2024-02-19T12:28:53.345749Z",
     "iopub.status.idle": "2024-02-19T12:28:58.429931Z",
     "shell.execute_reply": "2024-02-19T12:28:58.429247Z",
     "shell.execute_reply.started": "2024-02-19T12:28:53.346056Z"
    },
    "trusted": true
   },
   "outputs": [
    {
     "name": "stdout",
     "output_type": "stream",
     "text": [
      "3638.477322093488\n"
     ]
    }
   ],
   "source": [
    "import xgboost as xgb\n",
    "\n",
    "xgb_model = xgb.XGBRegressor(n_estimators=1000, max_depth=7, eta=0.1, subsample=0.7, colsample_bytree=0.8)\n",
    "xgb_model.fit(X_train, y_train)\n",
    "y_pred = xgb_model.predict(X_test)\n",
    "\n",
    "# Evaluate the model\n",
    "lin_mse = mean_squared_error(y_test, y_pred)\n",
    "lin_rmse = np.sqrt(lin_mse)\n",
    "print(lin_rmse)"
   ]
  }
 ],
 "metadata": {
  "kaggle": {
   "accelerator": "none",
   "dataSources": [
    {
     "databundleVersionId": 3619833,
     "sourceId": 36503,
     "sourceType": "competition"
    }
   ],
   "dockerImageVersionId": 30646,
   "isGpuEnabled": false,
   "isInternetEnabled": true,
   "language": "python",
   "sourceType": "notebook"
  },
  "kernelspec": {
   "display_name": "Python 3",
   "language": "python",
   "name": "python3"
  },
  "language_info": {
   "codemirror_mode": {
    "name": "ipython",
    "version": 3
   },
   "file_extension": ".py",
   "mimetype": "text/x-python",
   "name": "python",
   "nbconvert_exporter": "python",
   "pygments_lexer": "ipython3",
   "version": "3.10.13"
  }
 },
 "nbformat": 4,
 "nbformat_minor": 4
}
